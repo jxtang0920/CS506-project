{
 "cells": [
  {
   "cell_type": "code",
   "execution_count": 241,
   "metadata": {},
   "outputs": [],
   "source": [
    "import pandas as pd\n",
    "import numpy as np\n",
    "import scikitplot\n",
    "import scikitplot.plotters as skplt\n",
    "from sklearn.ensemble import RandomForestClassifier\n",
    "from sklearn.linear_model import LogisticRegression\n",
    "from sklearn.model_selection import cross_val_predict\n",
    "from sklearn.metrics import log_loss, accuracy_score\n",
    "from sklearn.model_selection import StratifiedKFold\n",
    "from xgboost import XGBClassifier\n",
    "from sklearn.svm import SVC"
   ]
  },
  {
   "cell_type": "code",
   "execution_count": 60,
   "metadata": {
    "scrolled": true
   },
   "outputs": [],
   "source": [
    "def trans(str0):\n",
    "    if str0 == False:\n",
    "        return 0\n",
    "    else:\n",
    "        return 1\n",
    "df = pd.read_csv('zillow_feature.csv')\n",
    "df.drop('Unnamed: 0', axis=1, inplace=True)\n",
    "df['owner_occupied'] = df['owner_occupied'].apply(trans)\n",
    "df2 = df[['address','num_units','num_bedrooms','longitude','latitude','owner_occupied']]\n",
    "cur_addr = set(df['address'])"
   ]
  },
  {
   "cell_type": "code",
   "execution_count": 30,
   "metadata": {},
   "outputs": [],
   "source": [
    "# train_x2 = df2.drop('owner_occupied', axis=1).drop('address', axis=1)\n",
    "# train_x2 = train_x2.apply(lambda x: (x - np.mean(x)) / (np.std(x)))"
   ]
  },
  {
   "cell_type": "code",
   "execution_count": 31,
   "metadata": {},
   "outputs": [
    {
     "data": {
      "text/plain": [
       "array([0, 1, 0, ..., 1, 1, 1])"
      ]
     },
     "execution_count": 31,
     "metadata": {},
     "output_type": "execute_result"
    }
   ],
   "source": [
    "train_x = df.drop('owner_occupied', axis=1)\n",
    "train_y = df['owner_occupied'].values\n",
    "train_x = train_x.drop('address', axis=1)\n",
    "#zscore \n",
    "train_x = train_x.drop('zestimate_percentile', axis=1)\n",
    "train_x = train_x.apply(lambda x: (x - np.mean(x)) / (np.std(x)))\n",
    "train_y"
   ]
  },
  {
   "cell_type": "code",
   "execution_count": 32,
   "metadata": {
    "scrolled": true
   },
   "outputs": [],
   "source": [
    "# train_x = train_x.values\n",
    "# train_x2 = train_x2.values\n",
    "# from sklearn.decomposition import PCA\n",
    "# pca=PCA(n_components=3)\n",
    "# train_x=pca.fit_transform(train_x)"
   ]
  },
  {
   "cell_type": "code",
   "execution_count": 249,
   "metadata": {},
   "outputs": [],
   "source": [
    "#train_x2 = train_x2.values\n",
    "#train_x2"
   ]
  },
  {
   "cell_type": "code",
   "execution_count": 34,
   "metadata": {},
   "outputs": [],
   "source": [
    "from sklearn.model_selection import train_test_split\n",
    "X_train, X_test, Y_train, Y_test = train_test_split(train_x,train_y,test_size=0.3, random_state=12)\n",
    "#X_train2, X_test2, Y_train, Y_test = train_test_split(train_x2,train_y,test_size=0.3, random_state=12)"
   ]
  },
  {
   "cell_type": "code",
   "execution_count": 263,
   "metadata": {
    "scrolled": true
   },
   "outputs": [
    {
     "name": "stdout",
     "output_type": "stream",
     "text": [
      "Accuracy: 0.7588267246061923\n"
     ]
    },
    {
     "data": {
      "image/png": "[encoded data removed]",
      "text/plain": [
       "<matplotlib.figure.Figure at 0x1a0f8e3ba8>"
      ]
     },
     "metadata": {},
     "output_type": "display_data"
    }
   ],
   "source": [
    "clf = RandomForestClassifier(n_estimators=2000,max_depth=18).fit(X_train, Y_train)\n",
    "yy = clf.predict(X_test)\n",
    "scikitplot.metrics.plot_confusion_matrix(Y_test, yy)\n",
    "print('Accuracy: {}'.format(accuracy_score(Y_test, yy)))"
   ]
  },
  {
   "cell_type": "code",
   "execution_count": 265,
   "metadata": {},
   "outputs": [
    {
     "data": {
      "text/plain": [
       "0.7251493753394894"
      ]
     },
     "execution_count": 265,
     "metadata": {},
     "output_type": "execute_result"
    }
   ],
   "source": [
    "from imblearn.over_sampling import SMOTE\n",
    "from imblearn.over_sampling import RandomOverSampler\n",
    "#oversampler=SMOTE()\n",
    "oversampler=RandomOverSampler()\n",
    "os_x,os_y=oversampler.fit_sample(X_train,Y_train)\n",
    "#clf =XGBClassifier().fit(os_x,os_y)\n",
    "clf = RandomForestClassifier(n_estimators=2000,max_depth=18).fit(os_x,os_y)\n",
    "#clf = LogisticRegression().fit(os_x,os_y)\n",
    "#clf = SVC(kernel='linear', class_weight='balanced', C=1.0, random_state=0).fit(os_x,os_y)\n",
    "#clf = SVC().fit(os_x,os_y)\n",
    "clf.score(X_test, Y_test)\n",
    "#evaluate_features(os_x,os_y)\n",
    "#evaluate_features(os_x,os_y,RandomForestClassifier(class_weight='balanced',n_estimators=2000, max_depth=16, verbose=1))"
   ]
  },
  {
   "cell_type": "code",
   "execution_count": 266,
   "metadata": {},
   "outputs": [
    {
     "name": "stdout",
     "output_type": "stream",
     "text": [
      "Accuracy: 0.7251493753394894\n"
     ]
    },
    {
     "data": {
      "image/png": "[encoded data removed]",
      "text/plain": [
       "<matplotlib.figure.Figure at 0x1a0f5a4710>"
      ]
     },
     "metadata": {},
     "output_type": "display_data"
    }
   ],
   "source": [
    "#clf = RandomForestClassifier(n_estimators=2000,max_depth=16).fit(X_train2, Y_train)\n",
    "yy = clf.predict(X_test)\n",
    "scikitplot.metrics.plot_confusion_matrix(Y_test, yy)\n",
    "print('Accuracy: {}'.format(accuracy_score(Y_test, yy)))"
   ]
  },
  {
   "cell_type": "code",
   "execution_count": null,
   "metadata": {},
   "outputs": [],
   "source": [
    "def evaluate_features(X, y, clf=None):\n",
    "    if clf is None:\n",
    "        clf = LogisticRegression()\n",
    "    \n",
    "    probas = cross_val_predict(clf, X, y, cv=StratifiedKFold(random_state=8), \n",
    "                              n_jobs=-1, method='predict_proba', verbose=2)\n",
    "    pred_indices = np.argmax(probas, axis=1)\n",
    "    classes = np.unique(y)\n",
    "    preds = classes[pred_indices]\n",
    "    print('Log loss: {}'.format(log_loss(y, probas)))\n",
    "    print('Accuracy: {}'.format(accuracy_score(y, preds)))\n",
    "    skplt.plot_confusion_matrix(y, preds)\n",
    "\n",
    "# clf = RandomForestClassifier(n_estimators=2000, max_depth=20, verbose=1).fit(X_train2, Y_train)\n",
    "# clf.score(X_test2, Y_test)\n",
    "# evaluate_features(X_train2,Y_train,RandomForestClassifier(n_estimators=2000, max_depth=18, verbose=1))"
   ]
  },
  {
   "cell_type": "code",
   "execution_count": null,
   "metadata": {},
   "outputs": [],
   "source": [
    "# mbu = pd.read_excel('mailing.bedroom.unit.xlsx')\n",
    "# mbu.rename(columns=lambda x:x.replace(' ','_').replace('#','o'), inplace=True)\n",
    "# #mbu_modify = []\n",
    "# mbu_dict = {}\n",
    "# for row in mbu.itertuples():\n",
    "#     #mbu_modify.append([row.Mailing_Street_Address,row._of_Units,row._of_Units])\n",
    "#     addr = row.Mailing_Street_Address.rstrip()\n",
    "#     if addr not in mbu_dict:\n",
    "#         mbu_dict[addr] = [row.o_of_Units,[row.o_of_Bedrooms]]\n",
    "#     else:\n",
    "#         mbu_dict[addr][0] += 1\n",
    "#         mbu_dict[addr][1].append(row.o_of_Bedrooms)\n",
    "# for i in mbu_dict:\n",
    "#     mean = sum(mbu_dict[i][1])/len(mbu_dict[i][1])\n",
    "#     mbu_dict[i][1] = mean\n",
    "# import string\n",
    "# loc = pd.read_excel('address with location.xlsx')\n",
    "# def del_unit(s):\n",
    "#     return s.rstrip(string.digits).rstrip() \n",
    "# loc['address'] = loc['address'].apply(del_unit)\n",
    "# loc = loc.drop_duplicates()\n",
    "# undefined = []\n",
    "# for row in loc.itertuples():\n",
    "#     if row.address not in cur_addr:\n",
    "#         if row.address in mbu_dict:\n",
    "#             undefined.append([row.address,mbu_dict[row.address][0],mbu_dict[row.address][1],row.longitude,row.latitude])\n",
    "# tests = pd.DataFrame(undefined,columns=['address','num_units','num_bedrooms','longitude','latitude'])\n",
    "# testx = tests.drop('address', axis=1)\n",
    "# testx = testx.apply(lambda x: (x - np.mean(x)) / (np.std(x)))\n",
    "# tx = testx.values\n",
    "# result = clf.predict(tx)\n",
    "# #result = clf.predict(tx)"
   ]
  }
 ],
 "metadata": {
  "kernelspec": {
   "display_name": "Python 3",
   "language": "python",
   "name": "python3"
  },
  "language_info": {
   "codemirror_mode": {
    "name": "ipython",
    "version": 3
   },
   "file_extension": ".py",
   "mimetype": "text/x-python",
   "name": "python",
   "nbconvert_exporter": "python",
   "pygments_lexer": "ipython3",
   "version": "3.6.4"
  }
 },
 "nbformat": 4,
 "nbformat_minor": 2
}
