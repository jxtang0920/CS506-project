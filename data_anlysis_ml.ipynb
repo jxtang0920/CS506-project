{
 "cells": [
  {
   "cell_type": "code",
   "execution_count": 41,
   "metadata": {},
   "outputs": [],
   "source": [
    "import pickle\n",
    "import pandas as pd\n",
    "import numpy as np\n",
    "import scikitplot\n",
    "import scikitplot.plotters as skplt\n",
    "from sklearn.ensemble import RandomForestClassifier\n",
    "from sklearn.linear_model import LogisticRegression\n",
    "from sklearn.model_selection import cross_val_predict\n",
    "from sklearn.metrics import log_loss, accuracy_score\n",
    "from sklearn.model_selection import StratifiedKFold\n",
    "from xgboost import XGBClassifier\n",
    "from sklearn.svm import SVC"
   ]
  },
  {
   "cell_type": "code",
   "execution_count": 42,
   "metadata": {},
   "outputs": [],
   "source": [
    "with open(\"SavedDict.txt\", \"rb\") as myFile:\n",
    "    pulled_dic = pickle.load(myFile)"
   ]
  },
  {
   "cell_type": "code",
   "execution_count": 43,
   "metadata": {
    "scrolled": true
   },
   "outputs": [],
   "source": [
    "def trans(str0):\n",
    "    if str0 == False:\n",
    "        return 0\n",
    "    else:\n",
    "        return 1\n",
    "df = pd.read_csv('zillow_feature.csv')\n",
    "df.drop('Unnamed: 0', axis=1, inplace=True)\n",
    "df['owner_occupied'] = df['owner_occupied'].apply(trans)\n",
    "df = df.drop('zestimate_percentile', axis=1)\n",
    "df2 = df[['address','num_units','num_bedrooms','longitude','latitude','owner_occupied']]\n",
    "cur_addr = set(df['address'])"
   ]
  },
  {
   "cell_type": "code",
   "execution_count": 54,
   "metadata": {},
   "outputs": [],
   "source": [
    "rr = []\n",
    "for row in df.itertuples():\n",
    "    if row.address in pulled_dic:\n",
    "        rr.append(row)\n",
    "dff = pd.DataFrame(rr)\n",
    "dff['pop'] = dff['address'].map(pulled_dic)\n",
    "dff['LUC'] = dff['pop'].str[0]\n",
    "dff['TotalAcres'] = dff['pop'].str[1]\n",
    "dff = dff.drop(columns=['pop'])\n",
    "dff = pd.get_dummies(data=dff, columns=['LUC'])\n",
    "dff['TotalAcres'] = dff['TotalAcres'].astype(float).fillna(0.0)\n"
   ]
  },
  {
   "cell_type": "code",
   "execution_count": 55,
   "metadata": {},
   "outputs": [],
   "source": [
    "# train_x2 = df2.drop('owner_occupied', axis=1).drop('address', axis=1)\n",
    "# train_x2 = train_x2.apply(lambda x: (x - np.mean(x)) / (np.std(x)))"
   ]
  },
  {
   "cell_type": "code",
   "execution_count": 56,
   "metadata": {},
   "outputs": [
    {
     "data": {
      "text/plain": [
       "(5813,)"
      ]
     },
     "execution_count": 56,
     "metadata": {},
     "output_type": "execute_result"
    }
   ],
   "source": [
    "train_x = dff.drop('owner_occupied', axis=1)\n",
    "train_y = dff['owner_occupied'].values\n",
    "train_x = train_x.drop('address', axis=1)\n",
    "train_x = train_x.apply(lambda x: (x - np.mean(x)) / (np.std(x)))\n",
    "train_y.shape"
   ]
  },
  {
   "cell_type": "code",
   "execution_count": 57,
   "metadata": {},
   "outputs": [],
   "source": [
    "# train_x = df.drop('owner_occupied', axis=1)\n",
    "# train_y = df['owner_occupied'].values\n",
    "# train_x = train_x.drop('address', axis=1)\n",
    "# #zscore \n",
    "# train_x = train_x.drop('zestimate_percentile', axis=1)\n",
    "# train_x = train_x.apply(lambda x: (x - np.mean(x)) / (np.std(x)))\n",
    "# train_y"
   ]
  },
  {
   "cell_type": "code",
   "execution_count": 58,
   "metadata": {
    "scrolled": true
   },
   "outputs": [],
   "source": [
    "# train_x = train_x.values\n",
    "# train_x2 = train_x2.values\n",
    "# from sklearn.decomposition import PCA\n",
    "# pca=PCA(n_components=3)\n",
    "# train_x=pca.fit_transform(train_x)"
   ]
  },
  {
   "cell_type": "code",
   "execution_count": 59,
   "metadata": {},
   "outputs": [],
   "source": [
    "#train_x2 = train_x2.values\n",
    "#train_x2"
   ]
  },
  {
   "cell_type": "code",
   "execution_count": 68,
   "metadata": {},
   "outputs": [],
   "source": [
    "from sklearn.model_selection import train_test_split\n",
    "X_train, X_test, Y_train, Y_test = train_test_split(train_x,train_y,test_size=0.3, random_state=12)\n",
    "#X_train2, X_test2, Y_train, Y_test = train_test_split(train_x2,train_y,test_size=0.3, random_state=12)"
   ]
  },
  {
   "cell_type": "code",
   "execution_count": 69,
   "metadata": {
    "scrolled": true
   },
   "outputs": [
    {
     "name": "stdout",
     "output_type": "stream",
     "text": [
      "Accuracy: 0.7763761467889908\n"
     ]
    },
    {
     "data": {
      "image/png": "[encoded data removed]",
      "text/plain": [
       "<matplotlib.figure.Figure at 0x1a1259aba8>"
      ]
     },
     "metadata": {},
     "output_type": "display_data"
    }
   ],
   "source": [
    "clf = RandomForestClassifier(n_estimators=2000,max_depth=18).fit(X_train, Y_train)\n",
    "yy = clf.predict(X_test)\n",
    "scikitplot.metrics.plot_confusion_matrix(Y_test, yy)\n",
    "print('Accuracy: {}'.format(accuracy_score(Y_test, yy)))"
   ]
  },
  {
   "cell_type": "code",
   "execution_count": 66,
   "metadata": {},
   "outputs": [
    {
     "data": {
      "text/plain": [
       "0.7350917431192661"
      ]
     },
     "execution_count": 66,
     "metadata": {},
     "output_type": "execute_result"
    }
   ],
   "source": [
    "from imblearn.over_sampling import SMOTE\n",
    "from imblearn.over_sampling import RandomOverSampler\n",
    "#oversampler=SMOTE()\n",
    "oversampler=RandomOverSampler()\n",
    "os_x,os_y=oversampler.fit_sample(X_train,Y_train)\n",
    "#clf =XGBClassifier().fit(os_x,os_y)\n",
    "clf = RandomForestClassifier(n_estimators=1500,max_depth=16).fit(os_x,os_y)\n",
    "#clf = LogisticRegression().fit(os_x,os_y)\n",
    "#clf = SVC(kernel='linear', class_weight='balanced', C=1.0, random_state=0).fit(os_x,os_y)\n",
    "#clf = SVC().fit(os_x,os_y)\n",
    "clf.score(X_test, Y_test)\n",
    "#evaluate_features(os_x,os_y)\n",
    "#evaluate_features(os_x,os_y,RandomForestClassifier(class_weight='balanced',n_estimators=2000, max_depth=16, verbose=1))"
   ]
  },
  {
   "cell_type": "code",
   "execution_count": 67,
   "metadata": {},
   "outputs": [
    {
     "name": "stdout",
     "output_type": "stream",
     "text": [
      "Accuracy: 0.7350917431192661\n"
     ]
    },
    {
     "data": {
      "image/png": "[encoded data removed]",
      "text/plain": [
       "<matplotlib.figure.Figure at 0x1a199f85f8>"
      ]
     },
     "metadata": {},
     "output_type": "display_data"
    }
   ],
   "source": [
    "#clf = RandomForestClassifier(n_estimators=2000,max_depth=16).fit(X_train2, Y_train)\n",
    "yy = clf.predict(X_test)\n",
    "scikitplot.metrics.plot_confusion_matrix(Y_test, yy)\n",
    "print('Accuracy: {}'.format(accuracy_score(Y_test, yy)))"
   ]
  },
  {
   "cell_type": "code",
   "execution_count": null,
   "metadata": {},
   "outputs": [],
   "source": [
    "def evaluate_features(X, y, clf=None):\n",
    "    if clf is None:\n",
    "        clf = LogisticRegression()\n",
    "    \n",
    "    probas = cross_val_predict(clf, X, y, cv=StratifiedKFold(random_state=8), \n",
    "                              n_jobs=-1, method='predict_proba', verbose=2)\n",
    "    pred_indices = np.argmax(probas, axis=1)\n",
    "    classes = np.unique(y)\n",
    "    preds = classes[pred_indices]\n",
    "    print('Log loss: {}'.format(log_loss(y, probas)))\n",
    "    print('Accuracy: {}'.format(accuracy_score(y, preds)))\n",
    "    skplt.plot_confusion_matrix(y, preds)\n",
    "\n",
    "# clf = RandomForestClassifier(n_estimators=2000, max_depth=20, verbose=1).fit(X_train2, Y_train)\n",
    "# clf.score(X_test2, Y_test)\n",
    "# evaluate_features(X_train2,Y_train,RandomForestClassifier(n_estimators=2000, max_depth=18, verbose=1))"
   ]
  },
  {
   "cell_type": "code",
   "execution_count": null,
   "metadata": {},
   "outputs": [],
   "source": [
    "# mbu = pd.read_excel('mailing.bedroom.unit.xlsx')\n",
    "# mbu.rename(columns=lambda x:x.replace(' ','_').replace('#','o'), inplace=True)\n",
    "# #mbu_modify = []\n",
    "# mbu_dict = {}\n",
    "# for row in mbu.itertuples():\n",
    "#     #mbu_modify.append([row.Mailing_Street_Address,row._of_Units,row._of_Units])\n",
    "#     addr = row.Mailing_Street_Address.rstrip()\n",
    "#     if addr not in mbu_dict:\n",
    "#         mbu_dict[addr] = [row.o_of_Units,[row.o_of_Bedrooms]]\n",
    "#     else:\n",
    "#         mbu_dict[addr][0] += 1\n",
    "#         mbu_dict[addr][1].append(row.o_of_Bedrooms)\n",
    "# for i in mbu_dict:\n",
    "#     mean = sum(mbu_dict[i][1])/len(mbu_dict[i][1])\n",
    "#     mbu_dict[i][1] = mean\n",
    "# import string\n",
    "# loc = pd.read_excel('address with location.xlsx')\n",
    "# def del_unit(s):\n",
    "#     return s.rstrip(string.digits).rstrip() \n",
    "# loc['address'] = loc['address'].apply(del_unit)\n",
    "# loc = loc.drop_duplicates()\n",
    "# undefined = []\n",
    "# for row in loc.itertuples():\n",
    "#     if row.address not in cur_addr:\n",
    "#         if row.address in mbu_dict:\n",
    "#             undefined.append([row.address,mbu_dict[row.address][0],mbu_dict[row.address][1],row.longitude,row.latitude])\n",
    "# tests = pd.DataFrame(undefined,columns=['address','num_units','num_bedrooms','longitude','latitude'])\n",
    "# testx = tests.drop('address', axis=1)\n",
    "# testx = testx.apply(lambda x: (x - np.mean(x)) / (np.std(x)))\n",
    "# tx = testx.values\n",
    "# result = clf.predict(tx)\n",
    "# #result = clf.predict(tx)"
   ]
  },
  {
   "cell_type": "code",
   "execution_count": 71,
   "metadata": {},
   "outputs": [
    {
     "name": "stdout",
     "output_type": "stream",
     "text": [
      "Epoch 1/5\n",
      "6136/6136 [==============================] - 0s 61us/step - loss: 0.7744 - acc: 0.4899\n",
      "Epoch 2/5\n",
      "6136/6136 [==============================] - 0s 11us/step - loss: 0.7257 - acc: 0.5065\n",
      "Epoch 3/5\n",
      "6136/6136 [==============================] - 0s 10us/step - loss: 0.7079 - acc: 0.5192\n",
      "Epoch 4/5\n",
      "6136/6136 [==============================] - 0s 11us/step - loss: 0.6990 - acc: 0.5336\n",
      "Epoch 5/5\n",
      "6136/6136 [==============================] - 0s 10us/step - loss: 0.6940 - acc: 0.5508\n",
      "1744/1744 [==============================] - 0s 18us/step\n"
     ]
    }
   ],
   "source": [
    "from keras.models import Sequential  \n",
    "from keras.layers import Dense, Activation\n",
    "from keras.utils import to_categorical\n",
    "model = Sequential()\n",
    "os_y2 = to_categorical(os_y)\n",
    "y_train = to_categorical(Y_train)\n",
    "y_test = to_categorical(Y_test)\n",
    "model.add(Dense(units=64, input_dim=22))\n",
    "model.add(Activation(\"relu\"))\n",
    "model.add(Dense(units=2))\n",
    "model.add(Activation(\"softmax\"))\n",
    "model.compile(loss='categorical_crossentropy', optimizer='sgd', metrics=['accuracy'])\n",
    "#model.fit(X_train,y_train, epochs=5, batch_size=32)\n",
    "model.fit(os_x,os_y2, epochs=5, batch_size=128)\n",
    "loss_and_metrics = model.evaluate(X_test, y_test, batch_size=128)\n",
    "y_pred = model.predict(X_test, batch_size=128)"
   ]
  },
  {
   "cell_type": "code",
   "execution_count": 73,
   "metadata": {},
   "outputs": [
    {
     "data": {
      "text/plain": [
       "0.5051602390005432"
      ]
     },
     "execution_count": 73,
     "metadata": {},
     "output_type": "execute_result"
    }
   ],
   "source": [
    "new = []\n",
    "for i in y_pred:\n",
    "    if i[0] >= 0.5:\n",
    "        new.append(0)\n",
    "    else:\n",
    "        new.append(1)\n",
    "sum = 0\n",
    "oo = 0\n",
    "for j in range(len(Y_test)):\n",
    "    if new[j] == 0:\n",
    "        oo+=1\n",
    "    if new[j] == Y_test[j]:\n",
    "        sum += 1\n",
    "\n",
    "sum/1841"
   ]
  },
  {
   "cell_type": "code",
   "execution_count": 63,
   "metadata": {},
   "outputs": [
    {
     "data": {
      "text/plain": [
       "180"
      ]
     },
     "execution_count": 63,
     "metadata": {},
     "output_type": "execute_result"
    }
   ],
   "source": []
  },
  {
   "cell_type": "code",
   "execution_count": null,
   "metadata": {},
   "outputs": [],
   "source": []
  }
 ],
 "metadata": {
  "kernelspec": {
   "display_name": "Python 3",
   "language": "python",
   "name": "python3"
  },
  "language_info": {
   "codemirror_mode": {
    "name": "ipython",
    "version": 3
   },
   "file_extension": ".py",
   "mimetype": "text/x-python",
   "name": "python",
   "nbconvert_exporter": "python",
   "pygments_lexer": "ipython3",
   "version": "3.6.4"
  }
 },
 "nbformat": 4,
 "nbformat_minor": 2
}
