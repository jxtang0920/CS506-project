{
 "cells": [
  {
   "cell_type": "code",
   "execution_count": 71,
   "metadata": {},
   "outputs": [],
   "source": [
    "import pandas as pd"
   ]
  },
  {
   "cell_type": "code",
   "execution_count": 72,
   "metadata": {},
   "outputs": [
    {
     "name": "stderr",
     "output_type": "stream",
     "text": [
      "/Users/jxtang/anaconda3/lib/python3.6/site-packages/pandas/util/_decorators.py:118: FutureWarning: The `sheetname` keyword is deprecated, use `sheet_name` instead\n",
      "  return func(*args, **kwargs)\n"
     ]
    }
   ],
   "source": [
    "df_Riverside = pd.read_excel('Revere_Properties_By_Neighborhood_20180412.xlsx', sheetname='Riverside')\n",
    "df_Point_of_Pines = pd.read_excel('Revere_Properties_By_Neighborhood_20180412.xlsx', sheetname='Point of Pines')\n",
    "df_Oak_Island = pd.read_excel('Revere_Properties_By_Neighborhood_20180412.xlsx', sheetname='Oak Island')\n",
    "df_Lower_Revere_St = pd.read_excel('Revere_Properties_By_Neighborhood_20180412.xlsx', sheetname='Lower Revere St')\n",
    "df_Upper_Revere_St = pd.read_excel('Revere_Properties_By_Neighborhood_20180412.xlsx', sheetname='Upper Revere St')\n",
    "df_Revere_Beach = pd.read_excel('Revere_Properties_By_Neighborhood_20180412.xlsx', sheetname='Revere Beach')\n",
    "df_Beachmont = pd.read_excel('Revere_Properties_By_Neighborhood_20180412.xlsx', sheetname='Beachmont')\n",
    "df_Shirley_Ave = pd.read_excel('Revere_Properties_By_Neighborhood_20180412.xlsx', sheetname='Shirley Ave')\n",
    "df_Library = pd.read_excel('Revere_Properties_By_Neighborhood_20180412.xlsx', sheetname='Library')\n",
    "df_West_Revere = pd.read_excel('Revere_Properties_By_Neighborhood_20180412.xlsx', sheetname='West Revere')\n",
    "df_Northgate_SquireRd = pd.read_excel('Revere_Properties_By_Neighborhood_20180412.xlsx', sheetname='Northgate-SquireRd')\n",
    "df_North_Revere = pd.read_excel('Revere_Properties_By_Neighborhood_20180412.xlsx', sheetname='North Revere')\n",
    "df_Park_Ave_Hills = pd.read_excel('Revere_Properties_By_Neighborhood_20180412.xlsx', sheetname='Park Ave & Hills')"
   ]
  },
  {
   "cell_type": "code",
   "execution_count": 73,
   "metadata": {},
   "outputs": [],
   "source": [
    "n_dic = {}\n",
    "for i in list(df_Riverside['Location']):\n",
    "    n_dic[i] = 'Riverside'\n",
    "for i in list(df_Point_of_Pines['Location']):\n",
    "    n_dic[i] = 'Point of Pines'\n",
    "for i in list(df_Oak_Island['Location']):\n",
    "    n_dic[i] = 'Oak Island'\n",
    "for i in list(df_Lower_Revere_St['Location']):\n",
    "    n_dic[i] = 'Lower Revere St'\n",
    "for i in list(df_Upper_Revere_St['Location']):\n",
    "    n_dic[i] = 'Upper Revere St'\n",
    "for i in list(df_Revere_Beach['Location']):\n",
    "    n_dic[i] = 'Revere Beach'\n",
    "for i in list(df_Beachmont['Location']):\n",
    "    n_dic[i] = 'Beachmont'\n",
    "for i in list(df_Shirley_Ave['Location']):\n",
    "    n_dic[i] = 'Shirley Ave'\n",
    "for i in list(df_Library['Location']):\n",
    "    n_dic[i] = 'Library'\n",
    "for i in list(df_West_Revere['Location']):\n",
    "    n_dic[i] = 'West Revere'\n",
    "for i in list(df_Northgate_SquireRd['Location']):\n",
    "    n_dic[i] = 'Northgate-SquireRd'\n",
    "for i in list(df_North_Revere['Location']):\n",
    "    n_dic[i] = 'North Revere'\n",
    "for i in list(df_Park_Ave_Hills['Location']):\n",
    "    n_dic[i] = 'Park Ave & Hills'"
   ]
  },
  {
   "cell_type": "code",
   "execution_count": 117,
   "metadata": {},
   "outputs": [],
   "source": [
    "n_dic2 = {}\n",
    "for i in df_Riverside.itertuples():\n",
    "    n_dic2[i.Location] = [i.LUCDescription,i.TotalAcres]\n",
    "for i in df_Point_of_Pines.itertuples():\n",
    "    n_dic2[i.Location] = [i.LUCDescription,i.TotalAcres]\n",
    "for i in df_Oak_Island.itertuples():\n",
    "    n_dic2[i.Location] = [i.LUCDescription,i.TotalAcres]\n",
    "for i in df_Lower_Revere_St.itertuples():\n",
    "    n_dic2[i.Location] = [i.LUCDescription,i.TotalAcres]\n",
    "for i in df_Upper_Revere_St.itertuples():\n",
    "    n_dic2[i.Location] = [i.LUCDescription,i.TotalAcres]\n",
    "for i in df_Revere_Beach.itertuples():\n",
    "    n_dic2[i.Location] = [i.LUCDescription,i.TotalAcres]\n",
    "for i in df_Beachmont.itertuples():\n",
    "    n_dic2[i.Location] = [i.LUCDescription,i.TotalAcres]\n",
    "for i in df_Shirley_Ave.itertuples():\n",
    "    n_dic2[i.Location] = [i.LUCDescription,i.TotalAcres]\n",
    "for i in df_Library.itertuples():\n",
    "    n_dic2[i.Location] = [i.LUCDescription,i.TotalAcres]\n",
    "for i in df_West_Revere.itertuples():\n",
    "    n_dic2[i.Location] = [i.LUCDescription,i.TotalAcres]\n",
    "for i in df_Northgate_SquireRd.itertuples():\n",
    "    n_dic2[i.Location] = [i.LUCDescription,i.TotalAcres]\n",
    "for i in df_North_Revere.itertuples():\n",
    "    n_dic2[i.Location] = [i.LUCDescription,i.TotalAcres]\n",
    "for i in df_Park_Ave_Hills.itertuples():\n",
    "    n_dic2[i.Location] = [i.LUCDescription,i.TotalAcres]"
   ]
  },
  {
   "cell_type": "code",
   "execution_count": 118,
   "metadata": {},
   "outputs": [
    {
     "data": {
      "text/plain": [
       "10332"
      ]
     },
     "execution_count": 118,
     "metadata": {},
     "output_type": "execute_result"
    }
   ],
   "source": [
    "len(n_dic)"
   ]
  },
  {
   "cell_type": "code",
   "execution_count": 119,
   "metadata": {},
   "outputs": [],
   "source": [
    "#df_pp = pd.read_csv('add_oo_lng_lat.csv')\n",
    "df_pp = pd.read_csv('features_ooc.csv')\n",
    "df_pp = df_pp.drop(columns=['Unnamed: 0'])\n",
    "i = 0\n",
    "nbhd = []\n",
    "for row in df_pp.itertuples():\n",
    "    if row.address in n_dic:\n",
    "        nbhd.append([row.address,n_dic[row.address],n_dic2[row.address][0],n_dic2[row.address][1],row.owner_occupied])\n",
    "op = pd.DataFrame(nbhd,columns=['address','neighborhood','LUCDescription','TotalAcre','owner_occupied'])"
   ]
  },
  {
   "cell_type": "code",
   "execution_count": 93,
   "metadata": {
    "scrolled": true
   },
   "outputs": [
    {
     "name": "stdout",
     "output_type": "stream",
     "text": [
      "ooc of Beachmont: 0.7656967840735069\n",
      "ooc of Library: 0.7422360248447205\n",
      "ooc of Lower Revere St: 0.7384615384615385\n",
      "ooc of North Revere: 0.7377049180327869\n",
      "ooc of Northgate-SquireRd: 0.75\n",
      "ooc of Oak Island: 0.7670454545454546\n",
      "ooc of Park Ave & Hills: 0.7878787878787878\n",
      "ooc of Point of Pines: 0.8275862068965517\n",
      "ooc of Revere Beach: 0.6511627906976745\n",
      "ooc of Riverside: 0.7717391304347826\n",
      "ooc of Shirley Ave: 0.6750902527075813\n",
      "ooc of Upper Revere St: 0.7070524412296564\n",
      "ooc of West Revere: 0.7768446310737852\n"
     ]
    }
   ],
   "source": [
    "grouped = op['owner_occupied'].groupby(op['neighborhood'])\n",
    "lst2 = []\n",
    "for name, group in grouped:\n",
    "    if name == 'Beachmont':\n",
    "        c=0\n",
    "        ll = list(group)\n",
    "        print('ooc of Beachmont:',sum(ll)/len(ll))\n",
    "    if name == 'Riverside':\n",
    "        c=0\n",
    "        ll = list(group)\n",
    "        print('ooc of Riverside:',sum(ll)/len(ll))\n",
    "    if name == 'Point of Pines':\n",
    "        c=0\n",
    "        ll = list(group)\n",
    "        print('ooc of Point of Pines:',sum(ll)/len(ll))\n",
    "    if name == 'Revere Beach':\n",
    "        c=0\n",
    "        ll = list(group)\n",
    "        print('ooc of Revere Beach:',sum(ll)/len(ll))\n",
    "    if name == 'Oak Island':\n",
    "        c=0\n",
    "        ll = list(group)\n",
    "        print('ooc of Oak Island:',sum(ll)/len(ll))\n",
    "    if name == 'Lower Revere St':\n",
    "        c=0\n",
    "        ll = list(group)\n",
    "        print('ooc of Lower Revere St:',sum(ll)/len(ll))\n",
    "    if name == 'Upper Revere St':\n",
    "        c=0\n",
    "        ll = list(group)\n",
    "        print('ooc of Upper Revere St:',sum(ll)/len(ll))\n",
    "    if name == 'Shirley Ave':\n",
    "        c=0\n",
    "        ll = list(group)\n",
    "        print('ooc of Shirley Ave:',sum(ll)/len(ll))\n",
    "    if name == 'Library':\n",
    "        c=0\n",
    "        ll = list(group)\n",
    "        print('ooc of Library:',sum(ll)/len(ll))\n",
    "    if name == 'West Revere':\n",
    "        c=0\n",
    "        ll = list(group)\n",
    "        print('ooc of West Revere:',sum(ll)/len(ll))\n",
    "    if name == 'Northgate-SquireRd':\n",
    "        c=0\n",
    "        ll = list(group)\n",
    "        print('ooc of Northgate-SquireRd:',sum(ll)/len(ll))\n",
    "    if name == 'North Revere':\n",
    "        c=0\n",
    "        ll = list(group)\n",
    "        print('ooc of North Revere:',sum(ll)/len(ll))\n",
    "    if name == 'Park Ave & Hills':\n",
    "        c=0\n",
    "        ll = list(group)\n",
    "        print('ooc of Park Ave & Hills:',sum(ll)/len(ll))"
   ]
  },
  {
   "cell_type": "code",
   "execution_count": 125,
   "metadata": {},
   "outputs": [],
   "source": [
    "import pickle\n",
    "with open(\"SavedDict.txt\", \"wb\") as myFile:\n",
    "    pickle.dump(n_dic2, myFile)"
   ]
  },
  {
   "cell_type": "code",
   "execution_count": 100,
   "metadata": {},
   "outputs": [],
   "source": [
    "LUC_dic = {}\n",
    "for row in op.itertuples():\n",
    "    if row.neighborhood not in LUC_dic:\n",
    "        LUC_dic[row.neighborhood] = {}\n",
    "        LUC_dic[row.neighborhood][row.LUCDescription] = [row.owner_occupied]\n",
    "    else:\n",
    "        if row.LUCDescription not in LUC_dic[row.neighborhood]:\n",
    "            LUC_dic[row.neighborhood][row.LUCDescription] = [row.owner_occupied]\n",
    "        else:\n",
    "            LUC_dic[row.neighborhood][row.LUCDescription].append(row.owner_occupied)\n"
   ]
  },
  {
   "cell_type": "code",
   "execution_count": 113,
   "metadata": {},
   "outputs": [],
   "source": [
    "others = 0\n",
    "osum = 0\n",
    "ooc_by_neighborhood = []\n",
    "for key in LUC_dic.keys():\n",
    "    others = 0\n",
    "    osum = 0\n",
    "    for i in LUC_dic[key]:\n",
    "        if i == 'ONE FAM':\n",
    "            of = sum(LUC_dic[key][i])/len(LUC_dic[key][i])\n",
    "        elif i == 'TWO FAM':\n",
    "            tf = sum(LUC_dic[key][i])/len(LUC_dic[key][i])\n",
    "        elif i == 'CONDO':\n",
    "            co = sum(LUC_dic[key][i])/len(LUC_dic[key][i])\n",
    "        else:\n",
    "            others += sum(LUC_dic[key][i])\n",
    "            osum += len(LUC_dic[key][i])\n",
    "    try:\n",
    "        ot = others/osum\n",
    "    except:\n",
    "        ot = 'NaN'\n",
    "    ooc_by_neighborhood.append([key,of,tf,co,ot])\n",
    "obn = pd.DataFrame(ooc_by_neighborhood,columns=['Neighborhood','ONE FAM','TWO FAM','CONDO','OTHERS'])\n",
    "writer = pd.ExcelWriter('ooc_by_neighborhood.xlsx')\n",
    "obn.to_excel(writer,'Sheet1')\n",
    "writer.save()"
   ]
  }
 ],
 "metadata": {
  "kernelspec": {
   "display_name": "Python 3",
   "language": "python",
   "name": "python3"
  },
  "language_info": {
   "codemirror_mode": {
    "name": "ipython",
    "version": 3
   },
   "file_extension": ".py",
   "mimetype": "text/x-python",
   "name": "python",
   "nbconvert_exporter": "python",
   "pygments_lexer": "ipython3",
   "version": "3.6.4"
  }
 },
 "nbformat": 4,
 "nbformat_minor": 2
}
