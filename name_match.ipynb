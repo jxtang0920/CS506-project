{
 "cells": [
  {
   "cell_type": "code",
   "execution_count": 4,
   "metadata": {},
   "outputs": [],
   "source": [
    "import pandas as pd"
   ]
  },
  {
   "cell_type": "markdown",
   "metadata": {},
   "source": [
    "### Read datasets"
   ]
  },
  {
   "cell_type": "code",
   "execution_count": 5,
   "metadata": {},
   "outputs": [
    {
     "name": "stderr",
     "output_type": "stream",
     "text": [
      "/Users/jxtang/anaconda3/lib/python3.6/site-packages/pandas/util/_decorators.py:118: FutureWarning: The `sheetname` keyword is deprecated, use `sheet_name` instead\n",
      "  return func(*args, **kwargs)\n"
     ]
    }
   ],
   "source": [
    "#reading datasets\n",
    "df_mailing = pd.read_excel('2 residential exemption mailing.xlsx', sheetname='Sheet1')\n",
    "df_mailing = df_mailing.drop(columns=['Unnamed: 2','Unnamed: 9','Unnamed: 13'])\n",
    "df_rk1 = pd.read_excel('4 All Residential data_rk.xlsx', sheetname='Assessors')\n",
    "df_rk2 = pd.read_excel('4 All Residential data_rk.xlsx', sheetname='Resident List')\n",
    "df_rk1.rename(columns=lambda x:x.replace(' ','_'), inplace=True)\n",
    "df_rk2.rename(columns=lambda x:x.replace(' ','_'), inplace=True)\n",
    "df_mailing.rename(columns=lambda x:x.replace(' ','_'), inplace=True)"
   ]
  },
  {
   "cell_type": "code",
   "execution_count": 6,
   "metadata": {},
   "outputs": [],
   "source": [
    "df_mismatch=[]\n",
    "total0 = 0\n",
    "for row in df_rk1.itertuples():\n",
    "    if row.Address_Match == False:\n",
    "        df_mismatch.append(row)\n",
    "        total0 += 1\n",
    "    if row.Address_Match == True:\n",
    "        total0 += 1\n",
    "df_mismatch = pd.DataFrame(df_mismatch)"
   ]
  },
  {
   "cell_type": "markdown",
   "metadata": {},
   "source": [
    "### data cleaning functions"
   ]
  },
  {
   "cell_type": "code",
   "execution_count": 7,
   "metadata": {},
   "outputs": [],
   "source": [
    "#data cleaning\n",
    "def upperletter(row):\n",
    "    return row.str.upper()\n",
    "def trimdata(row):\n",
    "    return row.str.strip()\n",
    "df_rk1[['Merged','Mailing_Address','Owner_1','Owner_2','Owner_3']] = df_rk1[['Merged','Mailing_Address','Owner_1','Owner_2','Owner_3']].apply(trimdata, axis=1).apply(upperletter, axis=1)\n",
    "df_rk2[['Merged','Street_name','Name']] = df_rk2[['Merged','Street_name','Name']].apply(trimdata, axis=1).apply(upperletter, axis=1)\n",
    "df_mailing = df_mailing.apply(trimdata, axis=1)"
   ]
  },
  {
   "cell_type": "code",
   "execution_count": 8,
   "metadata": {},
   "outputs": [],
   "source": [
    "#mailing.bedroom.unit dataset\n",
    "df_mbu = pd.read_excel('mailing.bedroom.unit.xlsx')\n",
    "df_mbu.rename(columns=lambda x:x.replace(' ','_'), inplace=True)\n",
    "df_mbu = df_mbu.drop(columns=['Unnamed:_2','Unnamed:_9','Unnamed:_13'])\n",
    "df_mbu[['Mailing_Street_Address','Owner','Second_Owner','Third_Owner']] = df_mbu[['Mailing_Street_Address','Owner','Second_Owner','Third_Owner']].apply(trimdata, axis=1)\n",
    "df_mbu[['Mailing_Street_Address','Owner','Second_Owner','Third_Owner']] = df_mbu[['Mailing_Street_Address','Owner','Second_Owner','Third_Owner']].apply(upperletter, axis=1)"
   ]
  },
  {
   "cell_type": "markdown",
   "metadata": {},
   "source": [
    "### calculate address mismatch by mailing address"
   ]
  },
  {
   "cell_type": "code",
   "execution_count": 9,
   "metadata": {},
   "outputs": [
    {
     "name": "stdout",
     "output_type": "stream",
     "text": [
      "mailing mismatch percent: 0.26574181757767074\n"
     ]
    },
    {
     "data": {
      "text/plain": [
       "8965"
      ]
     },
     "execution_count": 9,
     "metadata": {},
     "output_type": "execute_result"
    }
   ],
   "source": [
    "# print(df_rk1.shape)\n",
    "# print(df_mismatch.shape)\n",
    "# print(df_mismatch.columns)\n",
    "# print(df_rk1.columns)\n",
    "print(\"mailing mismatch percent:\",df_mismatch.shape[0]/total0)\n",
    "merged = set(df_rk2.Name)\n",
    "df_extract = []\n",
    "rv = 0\n",
    "for row in df_rk1.itertuples():\n",
    "    if row.Owner_1 in merged or row.Owner_2 in merged or row.Owner_3 in merged:\n",
    "        df_extract.append(row)\n",
    "    if row.Mailing_City == 'REVERE ':\n",
    "        rv += 1\n",
    "df_extract = pd.DataFrame(df_extract) \n",
    "rv"
   ]
  },
  {
   "cell_type": "code",
   "execution_count": 10,
   "metadata": {
    "scrolled": false
   },
   "outputs": [],
   "source": [
    "#extract dataframe that address exist in both sheets.\n",
    "merged2 = set(df_rk2.Merged)\n",
    "tmp = []\n",
    "for row in df_rk1.itertuples():\n",
    "    if row.Merged in merged2 or row.Mailing_Address in merged2:\n",
    "        tmp.append(row)\n",
    "df_extract2 = pd.DataFrame(tmp)"
   ]
  },
  {
   "cell_type": "code",
   "execution_count": 11,
   "metadata": {},
   "outputs": [],
   "source": [
    "#create a dict to store all the owners that have multiple properties based on df_rk2.\n",
    "#create a list to store the owner names.\n",
    "#or it may result in duplicate names.\n",
    "addr_dict={}\n",
    "multi_owner = []\n",
    "multi = 0\n",
    "for row in df_rk2.itertuples():\n",
    "    Merged2 = str(row.House_number)+' '+row.Street_name\n",
    "    if row.Name not in addr_dict:\n",
    "        addr_dict[row.Name] = [Merged2]\n",
    "    else:\n",
    "        if [Merged2] == addr_dict[row.Name]:\n",
    "            continue\n",
    "        else:\n",
    "            addr_dict[row.Name].append(Merged2)\n",
    "            multi_owner.append(row.Name)"
   ]
  },
  {
   "cell_type": "code",
   "execution_count": 12,
   "metadata": {},
   "outputs": [
    {
     "data": {
      "text/plain": [
       "36609"
      ]
     },
     "execution_count": 12,
     "metadata": {},
     "output_type": "execute_result"
    }
   ],
   "source": [
    "len(addr_dict)"
   ]
  },
  {
   "cell_type": "code",
   "execution_count": 13,
   "metadata": {},
   "outputs": [
    {
     "name": "stdout",
     "output_type": "stream",
     "text": [
      "names with different address: 623\n",
      "names appear in both sheets: 4136\n",
      "percent that a person have multiple properties: 0.15062862669245647\n",
      "3044\n",
      "568\n",
      "0.18659658344283836\n"
     ]
    }
   ],
   "source": [
    "#measure the percentage by person\n",
    "comp_names = []\n",
    "num = 0\n",
    "all_addr = []\n",
    "noop_addr = []\n",
    "for row in df_rk1.itertuples():\n",
    "    if row.Owner_1 in addr_dict or row.Owner_2 in addr_dict or row.Owner_3 in addr_dict:\n",
    "        all_addr.append(row.Mailing_Address)\n",
    "    if row.Owner_1 in addr_dict:\n",
    "        num+=1\n",
    "        if row.Mailing_Address not in addr_dict[row.Owner_1]:\n",
    "            comp_names.append(row.Owner_1)\n",
    "            noop_addr.append(row.Mailing_Address)\n",
    "    if row.Owner_2 in addr_dict:\n",
    "        num+=1\n",
    "        if row.Mailing_Address not in addr_dict[row.Owner_2]:\n",
    "            comp_names.append(row.Owner_2)\n",
    "            noop_addr.append(row.Mailing_Address)\n",
    "    if row.Owner_3 in addr_dict:\n",
    "        num+=1\n",
    "        if row.Mailing_Address not in addr_dict[row.Owner_3]:\n",
    "            comp_names.append(row.Owner_3)\n",
    "            noop_addr.append(row.Mailing_Address)\n",
    "m_owners = set(comp_names)\n",
    "all_addr = set(all_addr)\n",
    "noop_addr = set(noop_addr)\n",
    "print('names with different address:',len(m_owners))\n",
    "print('names appear in both sheets:',num)\n",
    "print('percent that a person have multiple properties:',len(m_owners)/num)\n",
    "print(len(all_addr))\n",
    "print(len(noop_addr))\n",
    "print(len(noop_addr)/len(all_addr))"
   ]
  },
  {
   "cell_type": "code",
   "execution_count": 14,
   "metadata": {},
   "outputs": [
    {
     "name": "stdout",
     "output_type": "stream",
     "text": [
      "names with different address new: 655\n",
      "names appear in both sheets new: 3705\n",
      "percent that a person have multiple properties: 0.1767881241565452\n",
      "582\n"
     ]
    }
   ],
   "source": [
    "#data comparison: add the new mailing.bedroom.unit dataset\n",
    "comp_names2 = []\n",
    "num2 = 0\n",
    "noop_addr2 = []\n",
    "for row in df_mbu.itertuples():\n",
    "#     print(row.Owner)\n",
    "    if row.Owner in addr_dict:\n",
    "        num2+=1\n",
    "        if row.Mailing_Street_Address not in addr_dict[row.Owner]:\n",
    "            comp_names2.append(row.Owner)\n",
    "            noop_addr2.append(row.Mailing_Street_Address)\n",
    "    if row.Second_Owner in addr_dict:\n",
    "        num2+=1\n",
    "        if row.Mailing_Street_Address not in addr_dict[row.Second_Owner]:\n",
    "            comp_names2.append(row.Second_Owner)\n",
    "            noop_addr2.append(row.Mailing_Street_Address)\n",
    "    if row.Third_Owner in addr_dict:\n",
    "        num2+=1\n",
    "        if row.Mailing_Street_Address not in addr_dict[row.Third_Owner]:\n",
    "            comp_names2.append(row.Third_Owner)\n",
    "            noop_addr2.append(row.Mailing_Street_Address)\n",
    "\n",
    "mm_owners = set(comp_names2)\n",
    "print('names with different address new:',len(mm_owners))\n",
    "print('names appear in both sheets new:',num2)\n",
    "print('percent that a person have multiple properties:',len(mm_owners)/num2)\n",
    "noop_addr2 = set(noop_addr2)\n",
    "print(len(noop_addr2))"
   ]
  },
  {
   "cell_type": "code",
   "execution_count": 15,
   "metadata": {},
   "outputs": [
    {
     "data": {
      "text/plain": [
       "423"
      ]
     },
     "execution_count": 15,
     "metadata": {},
     "output_type": "execute_result"
    }
   ],
   "source": [
    "len((noop_addr2)&(noop_addr))"
   ]
  },
  {
   "cell_type": "code",
   "execution_count": 16,
   "metadata": {},
   "outputs": [
    {
     "data": {
      "text/plain": [
       "582"
      ]
     },
     "execution_count": 16,
     "metadata": {},
     "output_type": "execute_result"
    }
   ],
   "source": [
    "len(noop_addr2)"
   ]
  },
  {
   "cell_type": "code",
   "execution_count": 17,
   "metadata": {},
   "outputs": [
    {
     "data": {
      "text/plain": [
       "727"
      ]
     },
     "execution_count": 17,
     "metadata": {},
     "output_type": "execute_result"
    }
   ],
   "source": [
    "len(noop_addr|noop_addr2)"
   ]
  },
  {
   "cell_type": "code",
   "execution_count": 18,
   "metadata": {},
   "outputs": [],
   "source": [
    "noop_addr_merge = (noop_addr|noop_addr2)"
   ]
  },
  {
   "cell_type": "code",
   "execution_count": 19,
   "metadata": {},
   "outputs": [
    {
     "data": {
      "text/plain": [
       "727"
      ]
     },
     "execution_count": 19,
     "metadata": {},
     "output_type": "execute_result"
    }
   ],
   "source": [
    "len(noop_addr_merge)"
   ]
  },
  {
   "cell_type": "code",
   "execution_count": 20,
   "metadata": {},
   "outputs": [],
   "source": [
    "#### new methods"
   ]
  },
  {
   "cell_type": "code",
   "execution_count": 21,
   "metadata": {},
   "outputs": [
    {
     "name": "stderr",
     "output_type": "stream",
     "text": [
      "/Users/jxtang/anaconda3/lib/python3.6/site-packages/pandas/util/_decorators.py:118: FutureWarning: The `sheetname` keyword is deprecated, use `sheet_name` instead\n",
      "  return func(*args, **kwargs)\n"
     ]
    }
   ],
   "source": [
    "df_as = pd.read_excel('Modify_ASRL.xlsx', sheetname='Modify_AS')\n",
    "df_rl = pd.read_excel('Modify_ASRL.xlsx', sheetname='Modify_RL')"
   ]
  },
  {
   "cell_type": "code",
   "execution_count": 22,
   "metadata": {},
   "outputs": [],
   "source": [
    "sname_rl = []\n",
    "name_rl = []\n",
    "def trim2(row):\n",
    "    return row.replace('-','')\n",
    "df_rl['Sorted_Owner'].apply(trim2)\n",
    "for row in df_rl.itertuples():\n",
    "    sname_rl.append(row.Sorted_Owner)\n",
    "    name_rl.append(row.Name)"
   ]
  },
  {
   "cell_type": "code",
   "execution_count": 24,
   "metadata": {},
   "outputs": [],
   "source": [
    "sname_as = []\n",
    "name_as = []\n",
    "for row in df_as.itertuples():\n",
    "    for i in row.Sorted_Owner:\n",
    "        pass\n",
    "        #print(i)\n",
    "        #sname_as.append(names)\n",
    "    name_as.append(row.Owner_1)\n",
    "    name_as.append(row.Owner_2)\n",
    "    name_as.append(row.Owner_3)"
   ]
  }
 ],
 "metadata": {
  "kernelspec": {
   "display_name": "Python 3",
   "language": "python",
   "name": "python3"
  },
  "language_info": {
   "codemirror_mode": {
    "name": "ipython",
    "version": 3
   },
   "file_extension": ".py",
   "mimetype": "text/x-python",
   "name": "python",
   "nbconvert_exporter": "python",
   "pygments_lexer": "ipython3",
   "version": "3.6.4"
  }
 },
 "nbformat": 4,
 "nbformat_minor": 2
}
