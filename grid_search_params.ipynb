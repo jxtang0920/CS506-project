{
 "cells": [
  {
   "cell_type": "code",
   "execution_count": 112,
   "metadata": {},
   "outputs": [],
   "source": [
    "import pickle\n",
    "import pandas as pd\n",
    "import numpy as np\n",
    "import scikitplot\n",
    "import scikitplot.plotters as skplt\n",
    "from sklearn.ensemble import GradientBoostingClassifier\n",
    "from sklearn.ensemble import AdaBoostClassifier\n",
    "from sklearn.ensemble import RandomForestClassifier\n",
    "from sklearn.linear_model import LogisticRegression\n",
    "from sklearn.model_selection import cross_val_predict\n",
    "from sklearn.metrics import log_loss, accuracy_score\n",
    "from sklearn.model_selection import StratifiedKFold\n",
    "from xgboost import XGBClassifier\n",
    "from sklearn.svm import SVC"
   ]
  },
  {
   "cell_type": "code",
   "execution_count": 2,
   "metadata": {},
   "outputs": [],
   "source": [
    "with open(\"SavedDict.txt\", \"rb\") as myFile:\n",
    "    pulled_dic = pickle.load(myFile)"
   ]
  },
  {
   "cell_type": "code",
   "execution_count": 3,
   "metadata": {
    "scrolled": true
   },
   "outputs": [],
   "source": [
    "def trans(str0):\n",
    "    if str0 == False:\n",
    "        return 0\n",
    "    else:\n",
    "        return 1\n",
    "df = pd.read_csv('zillow_feature.csv')\n",
    "df.drop('Unnamed: 0', axis=1, inplace=True)\n",
    "df['owner_occupied'] = df['owner_occupied'].apply(trans)\n",
    "df = df.drop('zestimate_percentile', axis=1)\n",
    "df2 = df[['address','num_units','num_bedrooms','longitude','latitude','owner_occupied']]\n",
    "cur_addr = set(df['address'])"
   ]
  },
  {
   "cell_type": "code",
   "execution_count": 4,
   "metadata": {},
   "outputs": [],
   "source": [
    "rr = []\n",
    "for row in df.itertuples():\n",
    "    if row.address in pulled_dic:\n",
    "        rr.append(row)\n",
    "dff = pd.DataFrame(rr)\n",
    "dff['pop'] = dff['address'].map(pulled_dic)\n",
    "dff['LUC'] = dff['pop'].str[0]\n",
    "dff['TotalAcres'] = dff['pop'].str[1]\n",
    "dff = dff.drop(columns=['pop'])\n",
    "dff = pd.get_dummies(data=dff, columns=['LUC'])\n",
    "dff['TotalAcres'] = dff['TotalAcres'].astype(float).fillna(0.0)\n"
   ]
  },
  {
   "cell_type": "code",
   "execution_count": 5,
   "metadata": {},
   "outputs": [],
   "source": [
    "# train_x2 = df2.drop('owner_occupied', axis=1).drop('address', axis=1)\n",
    "# train_x2 = train_x2.apply(lambda x: (x - np.mean(x)) / (np.std(x)))"
   ]
  },
  {
   "cell_type": "code",
   "execution_count": 6,
   "metadata": {},
   "outputs": [
    {
     "data": {
      "text/plain": [
       "(5813,)"
      ]
     },
     "execution_count": 6,
     "metadata": {},
     "output_type": "execute_result"
    }
   ],
   "source": [
    "train_x = dff.drop('owner_occupied', axis=1)\n",
    "train_y = dff['owner_occupied'].values\n",
    "train_x = train_x.drop('address', axis=1)\n",
    "train_x = train_x.apply(lambda x: (x - np.mean(x)) / (np.std(x)))\n",
    "train_y.shape"
   ]
  },
  {
   "cell_type": "code",
   "execution_count": 23,
   "metadata": {},
   "outputs": [
    {
     "data": {
      "text/plain": [
       "0.7178899082568807"
      ]
     },
     "execution_count": 23,
     "metadata": {},
     "output_type": "execute_result"
    }
   ],
   "source": [
    "from imblearn.over_sampling import SMOTE\n",
    "from imblearn.over_sampling import RandomOverSampler\n",
    "from imblearn.combine import SMOTEENN\n",
    "#oversampler = SMOTEENN(random_state=0)\n",
    "#oversampler=SMOTE()\n",
    "oversampler=RandomOverSampler()\n",
    "os_x,os_y=oversampler.fit_sample(X_train,Y_train)\n",
    "#clf = XGBClassifier().fit(os_x,os_y)\n",
    "#clf = XGBClassifier().fit(X_train,Y_train)\n",
    "#clf = RandomForestClassifier(n_estimators=1500,max_depth=16,max_features=0.8).fit(os_x,os_y)\n",
    "#clf = LogisticRegression().fit(os_x,os_y)\n",
    "#clf = SVC(kernel='linear', class_weight='balanced', C=1.0, random_state=0).fit(os_x,os_y)\n",
    "clf = SVC(kernel='rbf',C=10,gamma = 2).fit(os_x,os_y)\n",
    "#clf = SVC().fit(os_x,os_y)\n",
    "clf.score(X_test, Y_test)\n",
    "#evaluate_features(os_x,os_y)\n",
    "#evaluate_features(os_x,os_y,RandomForestClassifier(class_weight='balanced',n_estimators=2000, max_depth=16, verbose=1))"
   ]
  },
  {
   "cell_type": "code",
   "execution_count": 76,
   "metadata": {},
   "outputs": [],
   "source": [
    "# from sklearn.model_selection import GridSearchCV\n",
    "# grid = GridSearchCV(SVC(), param_grid={'kernel': ['linear','rbf'],\"C\":[10, 15, 20], \"gamma\": [2, 1, 10, 5]}, cv=4)\n",
    "# grid.fit(os_x,os_y)\n",
    "# print(\"The best parameters are %s with a score of %0.2f\"\n",
    "#       % (grid.best_params_, grid.best_score_))"
   ]
  },
  {
   "cell_type": "code",
   "execution_count": 114,
   "metadata": {},
   "outputs": [
    {
     "name": "stderr",
     "output_type": "stream",
     "text": [
      "/Users/jxtang/anaconda3/lib/python3.6/site-packages/sklearn/model_selection/_search.py:761: DeprecationWarning: The grid_scores_ attribute was deprecated in version 0.18 in favor of the more elaborate cv_results_ attribute. The grid_scores_ attribute will not be available from 0.20\n",
      "  DeprecationWarning)\n"
     ]
    },
    {
     "data": {
      "text/plain": [
       "([mean: 0.70535, std: 0.01983, params: {'n_estimators': 20},\n",
       "  mean: 0.73013, std: 0.02205, params: {'n_estimators': 30},\n",
       "  mean: 0.74444, std: 0.02361, params: {'n_estimators': 40},\n",
       "  mean: 0.75437, std: 0.02478, params: {'n_estimators': 50},\n",
       "  mean: 0.76591, std: 0.02604, params: {'n_estimators': 60},\n",
       "  mean: 0.77540, std: 0.02844, params: {'n_estimators': 70},\n",
       "  mean: 0.78621, std: 0.02654, params: {'n_estimators': 80}],\n",
       " {'n_estimators': 80},\n",
       " 0.7862136660592333)"
      ]
     },
     "execution_count": 114,
     "metadata": {},
     "output_type": "execute_result"
    }
   ],
   "source": [
    "param_test1 = {'n_estimators':range(20,81,10)}\n",
    "gsearch1 = GridSearchCV(estimator = GradientBoostingClassifier(learning_rate=0.1, min_samples_split=300,\n",
    "                                  min_samples_leaf=20,max_depth=8,max_features='sqrt', subsample=0.8,random_state=10), \n",
    "                       param_grid = param_test1, scoring='roc_auc',iid=False,cv=5)\n",
    "gsearch1.fit(os_x,os_y)\n",
    "gsearch1.grid_scores_, gsearch1.best_params_, gsearch1.best_score_"
   ]
  },
  {
   "cell_type": "code",
   "execution_count": 119,
   "metadata": {
    "scrolled": true
   },
   "outputs": [
    {
     "name": "stderr",
     "output_type": "stream",
     "text": [
      "/Users/jxtang/anaconda3/lib/python3.6/site-packages/sklearn/model_selection/_search.py:761: DeprecationWarning: The grid_scores_ attribute was deprecated in version 0.18 in favor of the more elaborate cv_results_ attribute. The grid_scores_ attribute will not be available from 0.20\n",
      "  DeprecationWarning)\n"
     ]
    },
    {
     "data": {
      "text/plain": [
       "([mean: 0.68575, std: 0.01563, params: {'max_depth': 3, 'min_samples_split': 100},\n",
       "  mean: 0.67754, std: 0.01478, params: {'max_depth': 3, 'min_samples_split': 300},\n",
       "  mean: 0.66753, std: 0.01693, params: {'max_depth': 3, 'min_samples_split': 500},\n",
       "  mean: 0.66622, std: 0.01696, params: {'max_depth': 3, 'min_samples_split': 700},\n",
       "  mean: 0.77295, std: 0.02200, params: {'max_depth': 5, 'min_samples_split': 100},\n",
       "  mean: 0.73217, std: 0.01849, params: {'max_depth': 5, 'min_samples_split': 300},\n",
       "  mean: 0.71633, std: 0.01999, params: {'max_depth': 5, 'min_samples_split': 500},\n",
       "  mean: 0.70543, std: 0.01816, params: {'max_depth': 5, 'min_samples_split': 700},\n",
       "  mean: 0.82221, std: 0.02355, params: {'max_depth': 7, 'min_samples_split': 100},\n",
       "  mean: 0.77185, std: 0.02214, params: {'max_depth': 7, 'min_samples_split': 300},\n",
       "  mean: 0.75179, std: 0.02146, params: {'max_depth': 7, 'min_samples_split': 500},\n",
       "  mean: 0.73212, std: 0.01720, params: {'max_depth': 7, 'min_samples_split': 700},\n",
       "  mean: 0.85425, std: 0.02321, params: {'max_depth': 9, 'min_samples_split': 100},\n",
       "  mean: 0.79589, std: 0.02143, params: {'max_depth': 9, 'min_samples_split': 300},\n",
       "  mean: 0.77536, std: 0.02242, params: {'max_depth': 9, 'min_samples_split': 500},\n",
       "  mean: 0.75218, std: 0.02192, params: {'max_depth': 9, 'min_samples_split': 700},\n",
       "  mean: 0.87802, std: 0.02785, params: {'max_depth': 11, 'min_samples_split': 100},\n",
       "  mean: 0.81689, std: 0.02219, params: {'max_depth': 11, 'min_samples_split': 300},\n",
       "  mean: 0.78639, std: 0.02249, params: {'max_depth': 11, 'min_samples_split': 500},\n",
       "  mean: 0.76530, std: 0.02386, params: {'max_depth': 11, 'min_samples_split': 700},\n",
       "  mean: 0.89415, std: 0.02617, params: {'max_depth': 13, 'min_samples_split': 100},\n",
       "  mean: 0.82901, std: 0.02544, params: {'max_depth': 13, 'min_samples_split': 300},\n",
       "  mean: 0.79716, std: 0.02111, params: {'max_depth': 13, 'min_samples_split': 500},\n",
       "  mean: 0.77399, std: 0.02267, params: {'max_depth': 13, 'min_samples_split': 700}],\n",
       " {'max_depth': 13, 'min_samples_split': 100},\n",
       " 0.8941518232686587)"
      ]
     },
     "execution_count": 119,
     "metadata": {},
     "output_type": "execute_result"
    }
   ],
   "source": [
    "param_test2 = {'max_depth':range(3,14,2), 'min_samples_split':range(100,801,200)}\n",
    "gsearch2 = GridSearchCV(estimator = GradientBoostingClassifier(learning_rate=0.1, n_estimators=80, min_samples_leaf=20, \n",
    "      max_features='sqrt', subsample=0.8, random_state=10), \n",
    "   param_grid = param_test2, scoring='roc_auc',iid=False, cv=5)\n",
    "gsearch2.fit(os_x,os_y)\n",
    "gsearch2.grid_scores_, gsearch2.best_params_, gsearch2.best_score_"
   ]
  },
  {
   "cell_type": "code",
   "execution_count": 120,
   "metadata": {},
   "outputs": [
    {
     "name": "stderr",
     "output_type": "stream",
     "text": [
      "/Users/jxtang/anaconda3/lib/python3.6/site-packages/sklearn/model_selection/_search.py:761: DeprecationWarning: The grid_scores_ attribute was deprecated in version 0.18 in favor of the more elaborate cv_results_ attribute. The grid_scores_ attribute will not be available from 0.20\n",
      "  DeprecationWarning)\n"
     ]
    },
    {
     "data": {
      "text/plain": [
       "([mean: 0.74255, std: 0.01868, params: {'min_samples_leaf': 60, 'min_samples_split': 800},\n",
       "  mean: 0.72258, std: 0.02274, params: {'min_samples_leaf': 60, 'min_samples_split': 1000},\n",
       "  mean: 0.70894, std: 0.02125, params: {'min_samples_leaf': 60, 'min_samples_split': 1200},\n",
       "  mean: 0.69440, std: 0.01948, params: {'min_samples_leaf': 60, 'min_samples_split': 1400},\n",
       "  mean: 0.68288, std: 0.01851, params: {'min_samples_leaf': 60, 'min_samples_split': 1600},\n",
       "  mean: 0.67131, std: 0.02079, params: {'min_samples_leaf': 60, 'min_samples_split': 1800},\n",
       "  mean: 0.73707, std: 0.02025, params: {'min_samples_leaf': 70, 'min_samples_split': 800},\n",
       "  mean: 0.71550, std: 0.02247, params: {'min_samples_leaf': 70, 'min_samples_split': 1000},\n",
       "  mean: 0.70507, std: 0.02046, params: {'min_samples_leaf': 70, 'min_samples_split': 1200},\n",
       "  mean: 0.69169, std: 0.02040, params: {'min_samples_leaf': 70, 'min_samples_split': 1400},\n",
       "  mean: 0.68232, std: 0.02048, params: {'min_samples_leaf': 70, 'min_samples_split': 1600},\n",
       "  mean: 0.66418, std: 0.01922, params: {'min_samples_leaf': 70, 'min_samples_split': 1800},\n",
       "  mean: 0.72575, std: 0.01837, params: {'min_samples_leaf': 80, 'min_samples_split': 800},\n",
       "  mean: 0.71263, std: 0.02088, params: {'min_samples_leaf': 80, 'min_samples_split': 1000},\n",
       "  mean: 0.70054, std: 0.02142, params: {'min_samples_leaf': 80, 'min_samples_split': 1200},\n",
       "  mean: 0.68965, std: 0.01604, params: {'min_samples_leaf': 80, 'min_samples_split': 1400},\n",
       "  mean: 0.67584, std: 0.01693, params: {'min_samples_leaf': 80, 'min_samples_split': 1600},\n",
       "  mean: 0.66472, std: 0.01875, params: {'min_samples_leaf': 80, 'min_samples_split': 1800},\n",
       "  mean: 0.72516, std: 0.01752, params: {'min_samples_leaf': 90, 'min_samples_split': 800},\n",
       "  mean: 0.71059, std: 0.01529, params: {'min_samples_leaf': 90, 'min_samples_split': 1000},\n",
       "  mean: 0.70243, std: 0.01833, params: {'min_samples_leaf': 90, 'min_samples_split': 1200},\n",
       "  mean: 0.68819, std: 0.01813, params: {'min_samples_leaf': 90, 'min_samples_split': 1400},\n",
       "  mean: 0.67531, std: 0.01936, params: {'min_samples_leaf': 90, 'min_samples_split': 1600},\n",
       "  mean: 0.66333, std: 0.01789, params: {'min_samples_leaf': 90, 'min_samples_split': 1800},\n",
       "  mean: 0.71994, std: 0.02318, params: {'min_samples_leaf': 100, 'min_samples_split': 800},\n",
       "  mean: 0.71019, std: 0.01993, params: {'min_samples_leaf': 100, 'min_samples_split': 1000},\n",
       "  mean: 0.69577, std: 0.01728, params: {'min_samples_leaf': 100, 'min_samples_split': 1200},\n",
       "  mean: 0.68341, std: 0.01692, params: {'min_samples_leaf': 100, 'min_samples_split': 1400},\n",
       "  mean: 0.67299, std: 0.01587, params: {'min_samples_leaf': 100, 'min_samples_split': 1600},\n",
       "  mean: 0.66062, std: 0.01425, params: {'min_samples_leaf': 100, 'min_samples_split': 1800}],\n",
       " {'min_samples_leaf': 60, 'min_samples_split': 800},\n",
       " 0.742545808858007)"
      ]
     },
     "execution_count": 120,
     "metadata": {},
     "output_type": "execute_result"
    }
   ],
   "source": [
    "param_test3 = {'min_samples_split':range(800,1900,200), 'min_samples_leaf':range(60,101,10)}\n",
    "gsearch3 = GridSearchCV(estimator = GradientBoostingClassifier(learning_rate=0.1, n_estimators=80,max_depth=13,\n",
    "                                     max_features='sqrt', subsample=0.8, random_state=10), \n",
    "                       param_grid = param_test3, scoring='roc_auc',iid=False, cv=5)\n",
    "gsearch3.fit(os_x,os_y)\n",
    "gsearch3.grid_scores_, gsearch3.best_params_, gsearch3.best_score_"
   ]
  },
  {
   "cell_type": "code",
   "execution_count": 122,
   "metadata": {},
   "outputs": [
    {
     "name": "stderr",
     "output_type": "stream",
     "text": [
      "/Users/jxtang/anaconda3/lib/python3.6/site-packages/sklearn/model_selection/_search.py:761: DeprecationWarning: The grid_scores_ attribute was deprecated in version 0.18 in favor of the more elaborate cv_results_ attribute. The grid_scores_ attribute will not be available from 0.20\n",
      "  DeprecationWarning)\n"
     ]
    },
    {
     "data": {
      "text/plain": [
       "([mean: 0.74956, std: 0.02320, params: {'max_features': 7},\n",
       "  mean: 0.75398, std: 0.02160, params: {'max_features': 9},\n",
       "  mean: 0.75613, std: 0.02504, params: {'max_features': 11},\n",
       "  mean: 0.75785, std: 0.01445, params: {'max_features': 13},\n",
       "  mean: 0.75878, std: 0.01681, params: {'max_features': 15},\n",
       "  mean: 0.76272, std: 0.01819, params: {'max_features': 17},\n",
       "  mean: 0.76110, std: 0.01706, params: {'max_features': 19}],\n",
       " {'max_features': 17},\n",
       " 0.762722897712027)"
      ]
     },
     "execution_count": 122,
     "metadata": {},
     "output_type": "execute_result"
    }
   ],
   "source": [
    "param_test4 = {'max_features':range(7,20,2)}\n",
    "gsearch4 = GridSearchCV(estimator = GradientBoostingClassifier(learning_rate=0.1, n_estimators=80,max_depth=13, min_samples_leaf =60, \n",
    "               min_samples_split =800, subsample=0.8, random_state=10), \n",
    "                       param_grid = param_test4, scoring='roc_auc',iid=False, cv=5)\n",
    "gsearch4.fit(os_x,os_y)\n",
    "gsearch4.grid_scores_, gsearch4.best_params_, gsearch4.best_score_"
   ]
  }
 ],
 "metadata": {
  "kernelspec": {
   "display_name": "Python 3",
   "language": "python",
   "name": "python3"
  },
  "language_info": {
   "codemirror_mode": {
    "name": "ipython",
    "version": 3
   },
   "file_extension": ".py",
   "mimetype": "text/x-python",
   "name": "python",
   "nbconvert_exporter": "python",
   "pygments_lexer": "ipython3",
   "version": "3.6.4"
  }
 },
 "nbformat": 4,
 "nbformat_minor": 2
}
