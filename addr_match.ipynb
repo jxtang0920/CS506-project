{
 "cells": [
  {
   "cell_type": "code",
   "execution_count": 1,
   "metadata": {},
   "outputs": [
    {
     "name": "stderr",
     "output_type": "stream",
     "text": [
      "/Users/jxtang/anaconda3/lib/python3.6/site-packages/pandas/util/_decorators.py:118: FutureWarning: The `sheetname` keyword is deprecated, use `sheet_name` instead\n",
      "  return func(*args, **kwargs)\n"
     ]
    }
   ],
   "source": [
    "import pandas as pd\n",
    "df_assessors = pd.read_excel('4 All Residential data_rk.xlsx', sheetname='Assessors')"
   ]
  },
  {
   "cell_type": "code",
   "execution_count": 2,
   "metadata": {},
   "outputs": [
    {
     "name": "stderr",
     "output_type": "stream",
     "text": [
      "/Users/jxtang/anaconda3/lib/python3.6/site-packages/pandas/util/_decorators.py:118: FutureWarning: The `sheetname` keyword is deprecated, use `sheet_name` instead\n",
      "  return func(*args, **kwargs)\n"
     ]
    }
   ],
   "source": [
    "df_resident_list = pd.read_excel('4 All Residential data_rk.xlsx', sheetname='Resident List')"
   ]
  },
  {
   "cell_type": "code",
   "execution_count": 3,
   "metadata": {},
   "outputs": [
    {
     "name": "stderr",
     "output_type": "stream",
     "text": [
      "/Users/jxtang/anaconda3/lib/python3.6/site-packages/pandas/util/_decorators.py:118: FutureWarning: The `sheetname` keyword is deprecated, use `sheet_name` instead\n",
      "  return func(*args, **kwargs)\n"
     ]
    }
   ],
   "source": [
    "df_mailing_bedroom = pd.read_excel('mailing.bedroom.unit.xlsx', sheetname='Sheet1')"
   ]
  },
  {
   "cell_type": "code",
   "execution_count": 4,
   "metadata": {},
   "outputs": [],
   "source": [
    "rl = {}\n",
    "for row in df_resident_list.itertuples():\n",
    "    add = str(row._2) + ' ' + row._4.strip() \n",
    "    name = row.Name.strip()\n",
    "    if add in rl.keys():\n",
    "        rl[add].append(name)\n",
    "    else:\n",
    "        rl[add] = [name]"
   ]
  },
  {
   "cell_type": "code",
   "execution_count": 5,
   "metadata": {},
   "outputs": [],
   "source": [
    "al = {}\n",
    "for row in df_assessors.itertuples():\n",
    "    add = row.Merged.strip()\n",
    "    owner1 = row._7.strip()\n",
    "    owner2 = row._8.strip()\n",
    "    owner3 = row._9.strip()\n",
    "    if add in al.keys():\n",
    "        if owner1 and owner1 not in al[add]:\n",
    "            al[add].append(owner1)\n",
    "        if owner2 and owner2 not in al[add]:\n",
    "            al[add].append(owner2)\n",
    "        if owner3 and owner3 not in al[add]:\n",
    "            al[add].append(owner3)\n",
    "    else:\n",
    "        if owner1:\n",
    "            al[add] = [owner1]\n",
    "        if owner2 and owner2 not in al[add]:\n",
    "            al[add].append(owner2)\n",
    "        if owner3 and owner3 not in al[add]:\n",
    "            al[add].append(owner3)"
   ]
  },
  {
   "cell_type": "code",
   "execution_count": 6,
   "metadata": {},
   "outputs": [],
   "source": [
    "mb = {}\n",
    "for row in df_mailing_bedroom.itertuples():\n",
    "    add = row._9.strip()\n",
    "    owner1 = row.Owner.strip()\n",
    "    owner2 = row._7.strip()\n",
    "    owner3 = row._8.strip()\n",
    "    if add in mb.keys():\n",
    "        if owner1 and owner1 not in mb[add]:\n",
    "            mb[add].append(owner1)\n",
    "        if owner2 and owner2 not in mb[add]:\n",
    "            mb[add].append(owner2)\n",
    "        if owner3 and owner3 not in mb[add]:\n",
    "            mb[add].append(owner3)\n",
    "    else:\n",
    "        if owner1:\n",
    "            mb[add] = [owner1]\n",
    "        if owner2 and owner2 not in mb[add]:\n",
    "            mb[add].append(owner2)\n",
    "        if owner3 and owner3 not in mb[add]:\n",
    "            mb[add].append(owner3)"
   ]
  },
  {
   "cell_type": "code",
   "execution_count": 7,
   "metadata": {},
   "outputs": [
    {
     "name": "stdout",
     "output_type": "stream",
     "text": [
      "8259\n"
     ]
    }
   ],
   "source": [
    "int_add = set(rl.keys()).intersection(set(al.keys()))\n",
    "print(len(int_add))"
   ]
  },
  {
   "cell_type": "code",
   "execution_count": 8,
   "metadata": {},
   "outputs": [
    {
     "name": "stdout",
     "output_type": "stream",
     "text": [
      "0.295677442789684\n"
     ]
    }
   ],
   "source": [
    "i = 0\n",
    "for add in int_add:\n",
    "    for name in al[add]:\n",
    "        if name in rl[add]:\n",
    "            i += 1\n",
    "            break\n",
    "print(i/len(int_add))"
   ]
  },
  {
   "cell_type": "code",
   "execution_count": 9,
   "metadata": {},
   "outputs": [
    {
     "name": "stdout",
     "output_type": "stream",
     "text": [
      "7386\n"
     ]
    }
   ],
   "source": [
    "int_add2 = set(rl.keys()).intersection(set(mb.keys()))\n",
    "print(len(int_add2))"
   ]
  },
  {
   "cell_type": "code",
   "execution_count": 10,
   "metadata": {},
   "outputs": [
    {
     "name": "stdout",
     "output_type": "stream",
     "text": [
      "0.2744381261846737\n"
     ]
    }
   ],
   "source": [
    "i = 0\n",
    "for add in int_add2:\n",
    "    for name in mb[add]:\n",
    "        if name in rl[add]:\n",
    "            i += 1\n",
    "            break\n",
    "print(i/len(int_add2))"
   ]
  },
  {
   "cell_type": "code",
   "execution_count": 11,
   "metadata": {},
   "outputs": [
    {
     "name": "stdout",
     "output_type": "stream",
     "text": [
      "7639\n"
     ]
    }
   ],
   "source": [
    "int_add3 = set(al.keys()).intersection(set(mb.keys()))\n",
    "print(len(int_add3))"
   ]
  },
  {
   "cell_type": "code",
   "execution_count": 12,
   "metadata": {},
   "outputs": [
    {
     "name": "stdout",
     "output_type": "stream",
     "text": [
      "0.8156826809791857\n"
     ]
    }
   ],
   "source": [
    "i = 0\n",
    "for add in int_add3:\n",
    "    for name in mb[add]:\n",
    "        if name in al[add]:\n",
    "            i += 1\n",
    "            break\n",
    "print(i/len(int_add3))"
   ]
  },
  {
   "cell_type": "code",
   "execution_count": 13,
   "metadata": {},
   "outputs": [],
   "source": [
    "for i in range(50):\n",
    "    add = list(int_add)[i]"
   ]
  },
  {
   "cell_type": "code",
   "execution_count": 14,
   "metadata": {},
   "outputs": [],
   "source": [
    "def basic_campare(n1, n2):\n",
    "    for name in n1:\n",
    "        if name in n2:\n",
    "            return True\n",
    "    return False\n",
    "\n",
    "def name_compare(n1, n2):\n",
    "    l1 = []\n",
    "    l2 = []\n",
    "    for name in n1:\n",
    "        l1.append(name.split(' '))\n",
    "    for name in n2:\n",
    "        l2.append(name.split(' '))\n",
    "    for arg in l1:\n",
    "        for arg2 in l2:\n",
    "            i = 0\n",
    "            for w in arg:\n",
    "                if w in arg2:\n",
    "                    i += 1\n",
    "            if i >= 2:\n",
    "                return True\n",
    "    return False\n",
    "        \n",
    "i = 0\n",
    "add = list(int_add)[5]"
   ]
  },
  {
   "cell_type": "code",
   "execution_count": 15,
   "metadata": {},
   "outputs": [
    {
     "name": "stdout",
     "output_type": "stream",
     "text": [
      "0.66230778544618\n"
     ]
    }
   ],
   "source": [
    "i = 0\n",
    "for add in int_add:\n",
    "    if basic_campare(al[add], rl[add]) or name_compare(al[add], rl[add]):\n",
    "        i += 1\n",
    "print(i/len(int_add))"
   ]
  },
  {
   "cell_type": "code",
   "execution_count": 16,
   "metadata": {},
   "outputs": [
    {
     "name": "stdout",
     "output_type": "stream",
     "text": [
      "0.6590386245308149\n"
     ]
    }
   ],
   "source": [
    "i = 0\n",
    "for add in int_add2:\n",
    "    if basic_campare(mb[add], rl[add]) or name_compare(mb[add], rl[add]):\n",
    "        i += 1\n",
    "print(i/len(int_add))"
   ]
  },
  {
   "cell_type": "code",
   "execution_count": 17,
   "metadata": {},
   "outputs": [
    {
     "name": "stdout",
     "output_type": "stream",
     "text": [
      "0.86281632158857\n"
     ]
    }
   ],
   "source": [
    "i = 0\n",
    "for add in int_add3:\n",
    "    if basic_campare(al[add], mb[add]) or name_compare(al[add], mb[add]):\n",
    "        i += 1\n",
    "print(i/len(int_add))"
   ]
  }
 ],
 "metadata": {
  "kernelspec": {
   "display_name": "Python 3",
   "language": "python",
   "name": "python3"
  },
  "language_info": {
   "codemirror_mode": {
    "name": "ipython",
    "version": 3
   },
   "file_extension": ".py",
   "mimetype": "text/x-python",
   "name": "python",
   "nbconvert_exporter": "python",
   "pygments_lexer": "ipython3",
   "version": "3.6.4"
  }
 },
 "nbformat": 4,
 "nbformat_minor": 2
}
